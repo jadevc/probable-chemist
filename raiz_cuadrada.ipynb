{
 "cells": [
  {
   "cell_type": "markdown",
   "metadata": {},
   "source": [
    "# Algoritmo de raiz cuadrada"
   ]
  },
  {
   "cell_type": "code",
   "execution_count": 1,
   "metadata": {},
   "outputs": [],
   "source": [
    "import math "
   ]
  },
  {
   "cell_type": "code",
   "execution_count": 2,
   "metadata": {},
   "outputs": [],
   "source": [
    "def approxSqrt(num, error=0.00001):\n",
    "    print(\"Aproximación de la raíz cuadrada({}) con un error de {}\".format(num,error))\n",
    "    \n",
    "    #Primera suposición del número\n",
    "    sup = num\n",
    "    #dif es una variable que se utiliza para verificar la condición de terminación\n",
    "    dif = 999999999\n",
    "    cuenta = 1 \n",
    "    while dif > error:\n",
    "        nsup = sup - ((sup**2 - num)/ (2*sup))\n",
    "        \n",
    "        #Se calcula la diferencia entre dos suposiciones\n",
    "        dif = nsup - sup\n",
    "        if dif < 0:\n",
    "            dif *= -1\n",
    "            \n",
    "        #Actualización de la suposición\n",
    "        sup = nsup\n",
    "       \n",
    "        #Muestra el resultado\n",
    "        print(\"\\tSuposición #{}: {} (dif: {})\".format(cuenta, sup, dif))\n",
    "        cuenta += 1\n",
    "    return sup"
   ]
  },
  {
   "cell_type": "code",
   "execution_count": 3,
   "metadata": {},
   "outputs": [
    {
     "name": "stdout",
     "output_type": "stream",
     "text": [
      "Ingrese el valor numérico: 25\n",
      "Aproximación de la raíz cuadrada(25.0) con un error de 1e-05\n",
      "\tSuposición #1: 13.0 (dif: 12.0)\n",
      "\tSuposición #2: 7.461538461538462 (dif: 5.538461538461538)\n",
      "\tSuposición #3: 5.406026962727994 (dif: 2.0555114988104677)\n",
      "\tSuposición #4: 5.015247601944898 (dif: 0.39077936078309605)\n",
      "\tSuposición #5: 5.000023178253949 (dif: 0.015224423690948896)\n",
      "\tSuposición #6: 5.000000000053723 (dif: 2.3178200225792978e-05)\n",
      "\tSuposición #7: 5.0 (dif: 5.3723248072401475e-11)\n",
      "La respuesta final - sqrt(25.0) es aproximadamente 5.0\n",
      "\n",
      "\n",
      "Ingrese el valor numérico: 147\n",
      "Aproximación de la raíz cuadrada(147.0) con un error de 1e-05\n",
      "\tSuposición #1: 74.0 (dif: 73.0)\n",
      "\tSuposición #2: 37.99324324324324 (dif: 36.00675675675676)\n",
      "\tSuposición #3: 20.931176129891227 (dif: 17.062067113352015)\n",
      "\tSuposición #4: 13.97709642662992 (dif: 6.954079703261307)\n",
      "\tSuposición #5: 12.247151127434078 (dif: 1.7299452991958422)\n",
      "\tSuposición #6: 12.124971254455046 (dif: 0.12217987297903221)\n",
      "\tSuposición #7: 12.124355668609608 (dif: 0.0006155858454377494)\n",
      "\tSuposición #8: 12.12435565298214 (dif: 1.5627467320200594e-08)\n",
      "La respuesta final - sqrt(147.0) es aproximadamente 12.12435565298214\n",
      "\n",
      "\n",
      "Ingrese el valor numérico: 2689\n",
      "Aproximación de la raíz cuadrada(2689.0) con un error de 1e-05\n",
      "\tSuposición #1: 1345.0 (dif: 1344.0)\n",
      "\tSuposición #2: 673.499628252788 (dif: 671.500371747212)\n",
      "\tSuposición #3: 338.7461032757852 (dif: 334.7535249770029)\n",
      "\tSuposición #4: 173.3421009848762 (dif: 165.40400229090898)\n",
      "\tSuposición #5: 94.42738892586522 (dif: 78.91471205901098)\n",
      "\tSuposición #6: 61.452148107516216 (dif: 32.975240818349)\n",
      "\tSuposición #7: 52.604886127953996 (dif: 8.84726197956222)\n",
      "\tSuposición #8: 51.86090538494263 (dif: 0.7439807430113632)\n",
      "\tSuposición #9: 51.85556892444447 (dif: 0.005336460498163831)\n",
      "\tSuposición #10: 51.855568649856686 (dif: 2.745877836218824e-07)\n",
      "La respuesta final - sqrt(2689.0) es aproximadamente 51.855568649856686\n",
      "\n",
      "\n",
      "Ingrese el valor numérico: 98203\n",
      "Aproximación de la raíz cuadrada(98203.0) con un error de 1e-05\n",
      "\tSuposición #1: 49102.0 (dif: 49101.0)\n",
      "\tSuposición #2: 24551.999989817115 (dif: 24550.000010182885)\n",
      "\tSuposición #3: 12277.999893084689 (dif: 12274.000096732427)\n",
      "\tSuposición #4: 6142.999091389027 (dif: 6135.000801695662)\n",
      "\tSuposición #5: 3079.492628433013 (dif: 3063.506462956014)\n",
      "\tSuposición #6: 1555.6909862532716 (dif: 1523.8016421797415)\n",
      "\tSuposición #7: 809.4079952134134 (dif: 746.2829910398582)\n",
      "\tSuposición #8: 465.36747052811467 (dif: 344.04052468529875)\n",
      "\tSuposición #9: 338.1949776899148 (dif: 127.17249283819984)\n",
      "\tSuposición #10: 314.2844467808624 (dif: 23.910530909052397)\n",
      "\tSuposición #11: 313.37489892666747 (dif: 0.9095478541949547)\n",
      "\tSuposición #12: 313.3735789784172 (dif: 0.001319948250284142)\n",
      "\tSuposición #13: 313.3735789756373 (dif: 2.779870555968955e-09)\n",
      "La respuesta final - sqrt(98203.0) es aproximadamente 313.3735789756373\n",
      "\n",
      "\n",
      "Ingrese el valor numérico: Hasta Luego!\n",
      "Hasta Luego!\n"
     ]
    }
   ],
   "source": [
    "while True: \n",
    "    num = input(\"Ingrese el valor numérico: \")\n",
    "    try:\n",
    "        num = float(num)\n",
    "    except:\n",
    "        print(\"Hasta Luego!\")\n",
    "        break\n",
    "    ans = approxSqrt(num)\n",
    "    print(\"La respuesta final - sqrt({}) es aproximadamente {}\\n\\n\".format(num,ans))"
   ]
  }
 ],
 "metadata": {
  "kernelspec": {
   "display_name": "Python 3",
   "language": "python",
   "name": "python3"
  },
  "language_info": {
   "codemirror_mode": {
    "name": "ipython",
    "version": 3
   },
   "file_extension": ".py",
   "mimetype": "text/x-python",
   "name": "python",
   "nbconvert_exporter": "python",
   "pygments_lexer": "ipython3",
   "version": "3.7.3"
  }
 },
 "nbformat": 4,
 "nbformat_minor": 2
}
