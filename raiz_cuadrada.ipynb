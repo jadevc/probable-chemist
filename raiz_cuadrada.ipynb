{
 "cells": [
  {
   "cell_type": "markdown",
   "metadata": {},
   "source": [
    "# Algoritmo de raiz cuadrada"
   ]
  },
  {
   "cell_type": "code",
   "execution_count": 1,
   "metadata": {},
   "outputs": [],
   "source": [
    "import math "
   ]
  },
  {
   "cell_type": "code",
   "execution_count": 4,
   "metadata": {},
   "outputs": [],
   "source": [
    "def approxSqrt(num, error=0.00001):\n",
    "    print(\"Aproximación de la raíz cuadrada({}) con un error de {}\".format(num,error))\n",
    "    \n",
    "    #Primera suposición del número\n",
    "    sup = num\n",
    "    #dif es una variable que se utiliza para verificar la condición de terminación\n",
    "    dif = 999999999\n",
    "    cuenta = 1 \n",
    "    while dif > error:\n",
    "        nsup = sup - ((sup**2 - num)/ (2*sup))\n",
    "        \n",
    "        #Se calcula la diferencia entre dos suposiciones\n",
    "        dif = nsup - sup\n",
    "        if dif < 0:\n",
    "            dif *= -1\n",
    "            \n",
    "        #Actualización de la suposición\n",
    "        sup = nsup\n",
    "       \n",
    "        #Muestra el resultado\n",
    "        print(\"\\tSuposición #{}: {} (dif: {})\".format(cuenta, sup, dif))\n",
    "        cuenta += 1\n",
    "    return sup"
   ]
  },
  {
   "cell_type": "code",
   "execution_count": 5,
   "metadata": {},
   "outputs": [
    {
     "name": "stdout",
     "output_type": "stream",
     "text": [
      "Ingrese el valor numérico: 25\n",
      "Aproximación de la raíz cuadrada(25.0) con un error de 1e-05\n",
      "\tSuposición #1: 13.0 (dif: 12.0)\n",
      "\tSuposición #2: 7.461538461538462 (dif: 5.538461538461538)\n",
      "\tSuposición #3: 5.406026962727994 (dif: 2.0555114988104677)\n",
      "\tSuposición #4: 5.015247601944898 (dif: 0.39077936078309605)\n",
      "\tSuposición #5: 5.000023178253949 (dif: 0.015224423690948896)\n",
      "\tSuposición #6: 5.000000000053723 (dif: 2.3178200225792978e-05)\n",
      "\tSuposición #7: 5.0 (dif: 5.3723248072401475e-11)\n",
      "La respuesta final - sqrt(25.0) es aproximadamente 5.0\n",
      "\n",
      "\n",
      "Ingrese el valor numérico: 39\n",
      "Aproximación de la raíz cuadrada(39.0) con un error de 1e-05\n",
      "\tSuposición #1: 20.0 (dif: 19.0)\n",
      "\tSuposición #2: 10.975 (dif: 9.025)\n",
      "\tSuposición #3: 7.264265375854214 (dif: 3.7107346241457853)\n",
      "\tSuposición #4: 6.316505985303646 (dif: 0.9477593905505683)\n",
      "\tSuposición #5: 6.2454027626939705 (dif: 0.0711032226096755)\n",
      "\tSuposición #6: 6.244998011514777 (dif: 0.0004047511791931413)\n",
      "\tSuposición #7: 6.244997998398398 (dif: 1.311637909395813e-08)\n",
      "La respuesta final - sqrt(39.0) es aproximadamente 6.244997998398398\n",
      "\n",
      "\n",
      "Ingrese el valor numérico: 48\n",
      "Aproximación de la raíz cuadrada(48.0) con un error de 1e-05\n",
      "\tSuposición #1: 24.5 (dif: 23.5)\n",
      "\tSuposición #2: 13.229591836734693 (dif: 11.270408163265307)\n",
      "\tSuposición #3: 8.428910843164878 (dif: 4.800680993569815)\n",
      "\tSuposición #4: 7.0617983875436865 (dif: 1.367112455621192)\n",
      "\tSuposición #5: 6.929466907391879 (dif: 0.13233148015180785)\n",
      "\tSuposición #6: 6.9282033454993694 (dif: 0.0012635618925092018)\n",
      "\tSuposición #7: 6.9282032302755105 (dif: 1.1522385889861653e-07)\n",
      "La respuesta final - sqrt(48.0) es aproximadamente 6.9282032302755105\n",
      "\n",
      "\n",
      "Ingrese el valor numérico: Hasta luego!\n",
      "Hasta Luego!\n"
     ]
    }
   ],
   "source": [
    "while True: \n",
    "    num = input(\"Ingrese el valor numérico: \")\n",
    "    try:\n",
    "        num = float(num)\n",
    "    except:\n",
    "        print(\"Hasta Luego!\")\n",
    "        break\n",
    "    ans = approxSqrt(num)\n",
    "    print(\"La respuesta final - sqrt({}) es aproximadamente {}\\n\\n\".format(num,ans))"
   ]
  },
  {
   "cell_type": "code",
   "execution_count": null,
   "metadata": {},
   "outputs": [],
   "source": []
  }
 ],
 "metadata": {
  "kernelspec": {
   "display_name": "Python 3",
   "language": "python",
   "name": "python3"
  },
  "language_info": {
   "codemirror_mode": {
    "name": "ipython",
    "version": 3
   },
   "file_extension": ".py",
   "mimetype": "text/x-python",
   "name": "python",
   "nbconvert_exporter": "python",
   "pygments_lexer": "ipython3",
   "version": "3.7.3"
  }
 },
 "nbformat": 4,
 "nbformat_minor": 2
}
